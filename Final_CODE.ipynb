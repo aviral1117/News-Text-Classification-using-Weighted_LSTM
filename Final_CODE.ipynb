{
  "nbformat": 4,
  "nbformat_minor": 0,
  "metadata": {
    "colab": {
      "name": "Final_CODE.ipynb",
      "provenance": [],
      "collapsed_sections": [],
      "toc_visible": true
    },
    "kernelspec": {
      "name": "python3",
      "display_name": "Python 3"
    },
    "language_info": {
      "codemirror_mode": {
        "name": "ipython",
        "version": 3
      },
      "file_extension": ".py",
      "mimetype": "text/x-python",
      "name": "python",
      "nbconvert_exporter": "python",
      "pygments_lexer": "ipython3",
      "version": "3.6.4"
    },
    "accelerator": "GPU"
  },
  "cells": [
    {
      "cell_type": "markdown",
      "metadata": {
        "colab_type": "text",
        "id": "6gS6ImRznBGl"
      },
      "source": [
        "# Weighted RNN for News-Text Classification"
      ]
    },
    {
      "cell_type": "markdown",
      "metadata": {
        "colab_type": "text",
        "id": "v0KNJHD4n76r"
      },
      "source": [
        "## Importing Required Libraries"
      ]
    },
    {
      "cell_type": "code",
      "metadata": {
        "colab_type": "code",
        "id": "WgO3oW_ohbxK",
        "colab": {}
      },
      "source": [
        "import os\n",
        "import sys\n",
        "import pickle\n",
        "import keras\n",
        "import numpy as np\n",
        "import pandas as pd\n",
        "import numpy\n",
        "import matplotlib as plt\n",
        "%matplotlib inline\n",
        "\n",
        "import gensim \n",
        "from gensim.models import Word2Vec \n",
        "from gensim.models import KeyedVectors\n",
        "from gensim.test.utils import common_texts, get_tmpfile\n",
        "\n",
        "from numpy import loadtxt\n",
        "from keras.models import load_model\n",
        "from keras.preprocessing import text\n",
        "from keras.preprocessing.text import Tokenizer\n",
        "from keras.layers import Dense, Input, LSTM, Embedding, Dropout, Activation ,Permute ,SimpleRNN , Bidirectional ,TimeDistributed, Conv1D ,Activation, Flatten\n",
        "from keras.models import Model\n",
        "from keras.layers.normalization import BatchNormalization\n",
        "from keras.callbacks import EarlyStopping, ModelCheckpoint\n",
        "from keras import Sequential\n",
        "from keras import regularizers\n",
        "from keras.utils import np_utils\n",
        "from sklearn.metrics import accuracy_score,precision_score,recall_score,f1_score\n",
        "import sklearn.metrics as metrics\n",
        "import matplotlib.pyplot as plt\n",
        "\n",
        "# Final Classification Result as requested is given towards the end"
      ],
      "execution_count": 0,
      "outputs": []
    },
    {
      "cell_type": "markdown",
      "metadata": {
        "colab_type": "text",
        "id": "VAkWD7lSnGlw"
      },
      "source": [
        "## Loading Test/Train Data"
      ]
    },
    {
      "cell_type": "code",
      "metadata": {
        "colab_type": "code",
        "id": "yjtH6foigNWV",
        "colab": {}
      },
      "source": [
        "# Use this to load the training and testing data files. If you want to see how these files were generated please refer 'Generator.ipynb'\n",
        "\n",
        "# Loading Traning and Testing Data\n",
        "#To read from pickled file\n",
        "with open(\"train_data.p\", \"rb\") as fp:   # Unpickling (Assuming file in same folder else please give complete path)\n",
        "    train_data = pickle.load(fp)\n",
        "with open(\"desired_train_data.p\", \"rb\") as fp:   # Unpickling\n",
        "    train_y = pickle.load(fp)\n",
        "\n",
        "#To read from pickled file\n",
        "with open(\"test_data.p\", \"rb\") as fp:   # Unpickling\n",
        "    test_data = pickle.load(fp)\n",
        "with open(\"desired_test_data.p\", \"rb\") as fp:   # Unpickling\n",
        "    test_y = pickle.load(fp)"
      ],
      "execution_count": 0,
      "outputs": []
    },
    {
      "cell_type": "code",
      "metadata": {
        "colab_type": "code",
        "id": "gyGKElgRgnLm",
        "scrolled": true,
        "colab": {}
      },
      "source": [
        "# Loading Model KeyedVectors and word2vec model\n",
        "# Please refer to Generator.ipynb for model building code\n",
        "#path = get_tmpfile('wordvectors1.kv')\n",
        "wv = KeyedVectors.load(\"wordvectors1.kv\", mmap='r')\n",
        "# No of words in our vocabulary\n",
        "len(wv.vocab)\n",
        "#path_model = get_tmpfile('wordvectors1.model')\n",
        "#model = gensim.models.Word2Vec.load(\"wordvectors1.model\")"
      ],
      "execution_count": 0,
      "outputs": []
    },
    {
      "cell_type": "code",
      "metadata": {
        "colab_type": "code",
        "id": "tD4O38R5hCva",
        "colab": {}
      },
      "source": [
        "# Making required in-memory training and testing lists of size (no. of docs, 300 , 200)\n",
        "# 200 is the size of our word2vec model\n",
        "\n",
        "# Training\n",
        "data_train = []\n",
        "padd = [0]*200\n",
        "for i in train_data:\n",
        "    a=[]\n",
        "    count=0\n",
        "    for j in i:\n",
        "        count+=1\n",
        "        a.append(wv[j])\n",
        "        if count==300:\n",
        "            break\n",
        "    if(len(a)<300):\n",
        "        while(len(a)!=300):\n",
        "              a.append(padd)\n",
        "    data_train.append(a)\n",
        "\n",
        "# Testing\n",
        "data_test = []\n",
        "padd = [0]*200\n",
        "for i in test_data:\n",
        "    a=[]\n",
        "    count=0\n",
        "    for j in i:\n",
        "        count+=1\n",
        "        a.append(wv[j])\n",
        "        if count==300:\n",
        "            break\n",
        "    if(len(a)<300):\n",
        "        while(len(a)!=300):\n",
        "            a.append(padd)\n",
        "    data_test.append(a)"
      ],
      "execution_count": 0,
      "outputs": []
    },
    {
      "cell_type": "code",
      "metadata": {
        "colab_type": "code",
        "id": "YH-kgBpbhrAA",
        "colab": {}
      },
      "source": [
        "# Finally\n",
        "\n",
        "# To create required input for the Keras Model\n",
        "truncate = len(data_train)-(len(data_train)%128)\n",
        "data_train = data_train[:truncate]\n",
        "train_y = train_y[:truncate]\n",
        "\n",
        "truncate = len(data_test)-(len(data_test)%128)\n",
        "data_test = data_test[:truncate]\n",
        "test_y = test_y[:truncate]\n",
        "\n",
        "# Debugging\n",
        "'''\n",
        "print(len(data_train)%128)\n",
        "print(len(train_y)%128)\n",
        "print(len(data_test)%128)\n",
        "print(len(test_y)%128)\n",
        "'''\n",
        "\n",
        "data_train = np.array(data_train)\n",
        "y_train = np.array(train_y)\n",
        "data_test = np.array(data_test)\n",
        "y_test = np.array(test_y)\n",
        "\n",
        "assert(data_train.shape[0]==y_train.shape[0])\n",
        "assert(data_test.shape[0]==y_test.shape[0])"
      ],
      "execution_count": 0,
      "outputs": []
    },
    {
      "cell_type": "code",
      "metadata": {
        "colab_type": "code",
        "id": "j4vucoldrYuc",
        "colab": {}
      },
      "source": [
        "print(data_train.shape, data_test.shape , y_train.shape, y_test.shape)"
      ],
      "execution_count": 0,
      "outputs": []
    },
    {
      "cell_type": "code",
      "metadata": {
        "colab_type": "code",
        "id": "XAGcLMTWAaCi",
        "colab": {}
      },
      "source": [
        "# Debugging # y_test is one hot encoded for 20 categories\n",
        "for i in y_train:\n",
        "    if list(i) == [0]*20:\n",
        "        print('Wrong')"
      ],
      "execution_count": 0,
      "outputs": []
    },
    {
      "cell_type": "code",
      "metadata": {
        "colab_type": "code",
        "id": "VopnhzjIfI40",
        "colab": {}
      },
      "source": [
        "# Backup\n",
        "'''\n",
        "import copy\n",
        "backup_data_train = copy.deepcopy(data_train)\n",
        "backup_y_train = copy.deepcopy(y_train)\n",
        "backup_data_test = copy.deepcopy(data_test)\n",
        "backup_y_test = copy.deepcopy(y_test)\n",
        "'''"
      ],
      "execution_count": 0,
      "outputs": []
    },
    {
      "cell_type": "code",
      "metadata": {
        "colab_type": "code",
        "id": "Wtvw4lg_PScS",
        "colab": {}
      },
      "source": [
        "# Shuffle two numpy arrays together\n",
        "def shuffle_in_unison(a, b): # Inplace\n",
        "    rng_state = np.random.get_state()\n",
        "    np.random.shuffle(a)\n",
        "    np.random.set_state(rng_state)\n",
        "    np.random.shuffle(b)\n",
        "    return a,b\n",
        "\n",
        "def shuffle_in_unison1(a,b): # Using Temp Extra Memory\n",
        "    assert len(a) == len(b)\n",
        "    shuffled_a = np.empty(a.shape, dtype=a.dtype)\n",
        "    shuffled_b = np.empty(b.shape, dtype=b.dtype)\n",
        "    permutation = np.random.permutation(len(a))\n",
        "    for old_index, new_index in enumerate(permutation):\n",
        "        shuffled_a[new_index] = a[old_index]\n",
        "        shuffled_b[new_index] = b[old_index]\n",
        "    return shuffled_a, shuffled_b"
      ],
      "execution_count": 0,
      "outputs": []
    },
    {
      "cell_type": "code",
      "metadata": {
        "colab_type": "code",
        "id": "JxhM5de8oNr_",
        "colab": {}
      },
      "source": [
        "# Final Shuffled Arrays\n",
        "data_train,y_train = shuffle_in_unison1(data_train,y_train)\n",
        "data_test, y_test = shuffle_in_unison1(data_test,y_test)"
      ],
      "execution_count": 0,
      "outputs": []
    },
    {
      "cell_type": "code",
      "metadata": {
        "colab_type": "code",
        "id": "7fcAJ5tqhra0",
        "colab": {}
      },
      "source": [
        "# We have training and testing data which can be fed to the network now"
      ],
      "execution_count": 0,
      "outputs": []
    },
    {
      "cell_type": "markdown",
      "metadata": {
        "colab_type": "text",
        "id": "eJZgVRm2adEa"
      },
      "source": [
        "## Helper Functions"
      ]
    },
    {
      "cell_type": "code",
      "metadata": {
        "colab_type": "code",
        "id": "EHUeX7gPUqIU",
        "colab": {}
      },
      "source": [
        "# Saving a keras model\n",
        "from numpy import loadtxt\n",
        "# model is name of the model to be save , file_name is file with which to save\n",
        "def mysave(model,file_name): # in file_name include .h5\n",
        "    model.save(file_name)"
      ],
      "execution_count": 0,
      "outputs": []
    },
    {
      "cell_type": "code",
      "metadata": {
        "colab_type": "code",
        "id": "KCFHaOYuUfrk",
        "colab": {}
      },
      "source": [
        "# loading a saved keras model\n",
        "def myload(file_name): # in file_name include .h5\n",
        "    # load model\n",
        "    model = load_model(file_name)\n",
        "    # summarize model.\n",
        "    model.summary()\n",
        "    return model"
      ],
      "execution_count": 0,
      "outputs": []
    },
    {
      "cell_type": "markdown",
      "metadata": {
        "colab_type": "text",
        "id": "OUk23QOZpv3f"
      },
      "source": [
        "## MODELS"
      ]
    },
    {
      "cell_type": "markdown",
      "metadata": {
        "colab_type": "text",
        "id": "3OEbITuUp0im"
      },
      "source": [
        "### SimpleRNN (Reference Model - I)"
      ]
    },
    {
      "cell_type": "code",
      "metadata": {
        "colab_type": "code",
        "id": "U7oRvAKiQ_-M",
        "colab": {}
      },
      "source": [
        "# Constants\n",
        "batch_Size = 128\n",
        "adam = keras.optimizers.Adam(lr=0.01)\n",
        "early = EarlyStopping(monitor = 'val_categorical_accuracy', verbose=1, mode = 'max', patience = 3)"
      ],
      "execution_count": 0,
      "outputs": []
    },
    {
      "cell_type": "code",
      "metadata": {
        "colab_type": "code",
        "id": "cJe8V83XZReV",
        "colab": {}
      },
      "source": [
        "## Network architecture\n",
        "#model name - modelrnn, history name - history_rnn\n",
        "modelrnn = Sequential()\n",
        "modelrnn.add(LSTM(128, input_shape=(300,200), dropout=0.2,recurrent_dropout=0.2,return_sequences = False))\n",
        "modelrnn.add(Dense(128,activation='relu'))\n",
        "#modelrnn.add(Dense(128,activation='relu'))\n",
        "modelrnn.add(Dense(20,activation='softmax'))\n",
        "modelrnn.compile(loss='categorical_crossentropy', optimizer=adam, metrics=[keras.metrics.categorical_accuracy])\n",
        "## Fit the model\n",
        "history_rnn = modelrnn.fit(data_train, y_train, validation_split=0.01, epochs=10 ,batch_size=batch_Size)\n",
        "modelrnn.summary()"
      ],
      "execution_count": 0,
      "outputs": []
    },
    {
      "cell_type": "code",
      "metadata": {
        "colab_type": "code",
        "id": "YBessEI6qSMG",
        "colab": {}
      },
      "source": [
        "# Saving the RNN model\n",
        "mysave(modelnn,\"RNN_final.h5\")"
      ],
      "execution_count": 0,
      "outputs": []
    },
    {
      "cell_type": "markdown",
      "metadata": {
        "colab_type": "text",
        "id": "4Wy6IKclVZhs"
      },
      "source": [
        "### Bi-LSTM (Reference Model - II)"
      ]
    },
    {
      "cell_type": "code",
      "metadata": {
        "colab_type": "code",
        "id": "KrLgJxMbhIw_",
        "colab": {}
      },
      "source": [
        "## Network architecture\n",
        "#Model Name - modelnn, history name - history_bi\n",
        "modelnn = Sequential()\n",
        "modelnn.add(Bidirectional(LSTM(128, input_shape=(300,200), dropout=0.2,recurrent_dropout=0.2,return_sequences = False)))\n",
        "modelnn.add(Dense(128,activation='relu'))\n",
        "modelnn.add(Dense(20,activation='softmax'))\n",
        "modelnn.compile(loss='categorical_crossentropy', optimizer=adam, metrics=[keras.metrics.categorical_accuracy])\n",
        "## Fit the model\n",
        "history_bi = modelnn.fit(data_train, y_train, validation_split=0.01, epochs=4 ,batch_size=batch_Size,callbacks= [early])\n",
        "modelnn.summary()"
      ],
      "execution_count": 0,
      "outputs": []
    },
    {
      "cell_type": "code",
      "metadata": {
        "colab_type": "code",
        "id": "_x6i5GmjUFND",
        "colab": {}
      },
      "source": [
        "# Saving the BiLSTM model\n",
        "mysave(modelnn,\"Bi_LSTM_final.h5\")"
      ],
      "execution_count": 0,
      "outputs": []
    },
    {
      "cell_type": "markdown",
      "metadata": {
        "colab_type": "text",
        "id": "3Zl65owhVk1A"
      },
      "source": [
        "### W-RNN Model"
      ]
    },
    {
      "cell_type": "code",
      "metadata": {
        "colab_type": "code",
        "id": "HReitqP3ERVU",
        "outputId": "a365d017-a9f0-4738-8e03-1609b3b9e11b",
        "colab": {
          "base_uri": "https://localhost:8080/",
          "height": 1000
        }
      },
      "source": [
        "## Network architecture\n",
        "#Model name - modelnn_LSTM, history name - history_LSTM\n",
        "modelnn_LSTM = Sequential()\n",
        "modelnn_LSTM.add((LSTM(128, input_shape=(300,200), dropout=0.2,recurrent_dropout=0.2,return_sequences = True )))  # Creates individual word vectors\n",
        "modelnn_LSTM.add(Permute((2,1)))\n",
        "modelnn_LSTM.add(TimeDistributed(Dense(1)))\n",
        "modelnn_LSTM.add(Flatten()) # Final Document Vector\n",
        "# Classification\n",
        "modelnn_LSTM.add(Dense(128,activation='relu'))\n",
        "modelnn_LSTM.add(Dense(20,activation='softmax',kernel_initializer='he_normal',kernel_regularizer=regularizers.l1_l2(l1=0.01,l2=0.01)))\n",
        "\n",
        "modelnn_LSTM.compile(loss='categorical_crossentropy',optimizer=adam, metrics=[keras.metrics.categorical_accuracy])\n",
        "modelnn_LSTM.summary()\n",
        "history_LSTM = modelnn_LSTM.fit(data_train,y_train, validation_split=0.05,epochs=100 ,batch_size=batch_Size, callbacks= [early])"
      ],
      "execution_count": 0,
      "outputs": [
        {
          "output_type": "stream",
          "text": [
            "Model: \"sequential_3\"\n",
            "_________________________________________________________________\n",
            "Layer (type)                 Output Shape              Param #   \n",
            "=================================================================\n",
            "lstm_3 (LSTM)                (None, 300, 128)          168448    \n",
            "_________________________________________________________________\n",
            "permute_3 (Permute)          (None, 128, 300)          0         \n",
            "_________________________________________________________________\n",
            "time_distributed_3 (TimeDist (None, 128, 1)            301       \n",
            "_________________________________________________________________\n",
            "flatten_2 (Flatten)          (None, 128)               0         \n",
            "_________________________________________________________________\n",
            "dense_6 (Dense)              (None, 128)               16512     \n",
            "_________________________________________________________________\n",
            "dense_7 (Dense)              (None, 20)                2580      \n",
            "=================================================================\n",
            "Total params: 187,841\n",
            "Trainable params: 187,841\n",
            "Non-trainable params: 0\n",
            "_________________________________________________________________\n",
            "Train on 16051 samples, validate on 845 samples\n",
            "Epoch 1/100\n",
            "16051/16051 [==============================] - 133s 8ms/step - loss: 3.7798 - categorical_accuracy: 0.3622 - val_loss: 2.1188 - val_categorical_accuracy: 0.6473\n",
            "Epoch 2/100\n",
            "16051/16051 [==============================] - 132s 8ms/step - loss: 1.7726 - categorical_accuracy: 0.6600 - val_loss: 1.2079 - val_categorical_accuracy: 0.7988\n",
            "Epoch 3/100\n",
            "16051/16051 [==============================] - 131s 8ms/step - loss: 1.2444 - categorical_accuracy: 0.7369 - val_loss: 0.9253 - val_categorical_accuracy: 0.8118\n",
            "Epoch 4/100\n",
            "16051/16051 [==============================] - 131s 8ms/step - loss: 0.9824 - categorical_accuracy: 0.7828 - val_loss: 0.7226 - val_categorical_accuracy: 0.8639\n",
            "Epoch 5/100\n",
            "16051/16051 [==============================] - 132s 8ms/step - loss: 0.8260 - categorical_accuracy: 0.8181 - val_loss: 0.6313 - val_categorical_accuracy: 0.8840\n",
            "Epoch 6/100\n",
            "16051/16051 [==============================] - 131s 8ms/step - loss: 0.7340 - categorical_accuracy: 0.8319 - val_loss: 0.5702 - val_categorical_accuracy: 0.8805\n",
            "Epoch 7/100\n",
            "16051/16051 [==============================] - 133s 8ms/step - loss: 0.6649 - categorical_accuracy: 0.8458 - val_loss: 0.5176 - val_categorical_accuracy: 0.8911\n",
            "Epoch 8/100\n",
            "16051/16051 [==============================] - 133s 8ms/step - loss: 0.6067 - categorical_accuracy: 0.8593 - val_loss: 0.4877 - val_categorical_accuracy: 0.8923\n",
            "Epoch 9/100\n",
            "16051/16051 [==============================] - 136s 8ms/step - loss: 0.5535 - categorical_accuracy: 0.8702 - val_loss: 0.4430 - val_categorical_accuracy: 0.9065\n",
            "Epoch 10/100\n",
            "16051/16051 [==============================] - 135s 8ms/step - loss: 0.5028 - categorical_accuracy: 0.8830 - val_loss: 0.3955 - val_categorical_accuracy: 0.9172\n",
            "Epoch 11/100\n",
            "16051/16051 [==============================] - 136s 8ms/step - loss: 0.4709 - categorical_accuracy: 0.8890 - val_loss: 0.3928 - val_categorical_accuracy: 0.9148\n",
            "Epoch 12/100\n",
            "16051/16051 [==============================] - 136s 8ms/step - loss: 0.4399 - categorical_accuracy: 0.8960 - val_loss: 0.3933 - val_categorical_accuracy: 0.9089\n",
            "Epoch 13/100\n",
            "16051/16051 [==============================] - 134s 8ms/step - loss: 0.4178 - categorical_accuracy: 0.9024 - val_loss: 0.3554 - val_categorical_accuracy: 0.9207\n",
            "Epoch 14/100\n",
            "16051/16051 [==============================] - 134s 8ms/step - loss: 0.3925 - categorical_accuracy: 0.9092 - val_loss: 0.3560 - val_categorical_accuracy: 0.9172\n",
            "Epoch 15/100\n",
            "16051/16051 [==============================] - 134s 8ms/step - loss: 0.3647 - categorical_accuracy: 0.9144 - val_loss: 0.3387 - val_categorical_accuracy: 0.9231\n",
            "Epoch 16/100\n",
            "16051/16051 [==============================] - 134s 8ms/step - loss: 0.3495 - categorical_accuracy: 0.9178 - val_loss: 0.3424 - val_categorical_accuracy: 0.9290\n",
            "Epoch 17/100\n",
            "16051/16051 [==============================] - 131s 8ms/step - loss: 0.3334 - categorical_accuracy: 0.9236 - val_loss: 0.3674 - val_categorical_accuracy: 0.9172\n",
            "Epoch 18/100\n",
            "16051/16051 [==============================] - 133s 8ms/step - loss: 0.3159 - categorical_accuracy: 0.9249 - val_loss: 0.3524 - val_categorical_accuracy: 0.9266\n",
            "Epoch 19/100\n",
            "16051/16051 [==============================] - 135s 8ms/step - loss: 0.2949 - categorical_accuracy: 0.9341 - val_loss: 0.3384 - val_categorical_accuracy: 0.9266\n",
            "Epoch 00019: early stopping\n"
          ],
          "name": "stdout"
        }
      ]
    },
    {
      "cell_type": "code",
      "metadata": {
        "colab_type": "code",
        "id": "UIrGI3cqV5lx",
        "colab": {}
      },
      "source": [
        "# Saving the WRNN model\n",
        "mysave(modelnn_LSTM,\"WRNN_Final.h5\")"
      ],
      "execution_count": 0,
      "outputs": []
    },
    {
      "cell_type": "markdown",
      "metadata": {
        "colab_type": "text",
        "id": "km0bAhuag-1A"
      },
      "source": [
        "## Model Evaluation"
      ]
    },
    {
      "cell_type": "code",
      "metadata": {
        "colab_type": "code",
        "id": "2f_ecWxKzgTL",
        "colab": {}
      },
      "source": [
        "# This function will give the confusion matrix, precision, recall, f1 measure for the given model name as argument\n",
        "def getresults(model,y_test,batch):\n",
        "    y_pred = model.predict(data_test,batch_size=batch)\n",
        "    print(metrics.confusion_matrix(y_test.argmax(axis=1), y_pred.argmax(axis=1)))\n",
        "    print(metrics.classification_report(y_test.argmax(axis=1), y_pred.argmax(axis=1), digits=3))"
      ],
      "execution_count": 0,
      "outputs": []
    },
    {
      "cell_type": "code",
      "metadata": {
        "colab_type": "code",
        "id": "Ui83a1t_46Lv",
        "outputId": "0d702408-a2a0-4116-a686-b49e9e5e57b8",
        "colab": {
          "base_uri": "https://localhost:8080/",
          "height": 1000
        }
      },
      "source": [
        "#Model name is specified on top of each model in comments\n",
        "# Output shown for WRNN\n",
        "getresults(modelnn_LSTM,y_test,128)     # WRNN\n",
        "\n",
        "# Uncomment to get appropriate model results\n",
        "#getresults(modelrnn,y_test,128)        # SimpleLSTM\n",
        "#getresults(modelnn,y_test,128)         # BiLSTM\n",
        "#getresults(modelnn_BiLSTM,y_test,128)  # W-BiLSTM"
      ],
      "execution_count": 0,
      "outputs": [
        {
          "output_type": "stream",
          "text": [
            "Accuracy: 0.894792\n",
            "[[ 75   1   0   0   0   0   0   0   1   0   0   0   1   1   1   1   0   1\n",
            "    1  17]\n",
            " [  1  81   2   2   3   4   1   0   0   0   0   0   1   0   1   1   0   1\n",
            "    1   0]\n",
            " [  0   5  49   5   4   2   2   0   0   0   0   0   0   1   0   0   0   0\n",
            "    0   0]\n",
            " [  0   1   3  79  10   0   7   0   0   0   0   0   0   0   0   0   0   0\n",
            "    0   0]\n",
            " [  0   0   0   2  86   1  10   0   0   0   0   0   0   1   0   0   0   0\n",
            "    0   0]\n",
            " [  0   1   0   0   0  99   0   0   0   0   0   0   0   0   0   0   0   0\n",
            "    0   0]\n",
            " [  0   0   0   2   1   0  96   1   0   0   0   0   0   0   0   0   0   0\n",
            "    0   0]\n",
            " [  0   0   0   0   0   0   4  92   1   0   0   0   1   2   0   0   0   0\n",
            "    0   0]\n",
            " [  0   0   0   0   0   0   0   0  98   1   1   0   0   0   0   0   0   0\n",
            "    0   0]\n",
            " [  0   1   0   0   0   0   2   0   0  95   2   0   0   0   0   0   0   0\n",
            "    0   0]\n",
            " [  0   0   0   0   0   0   0   0   0   1 100   0   0   0   0   0   0   0\n",
            "    0   0]\n",
            " [  0   1   0   0   0   0   0   0   0   0   0  99   0   0   0   0   0   0\n",
            "    0   0]\n",
            " [  0   3   0   2   0   0   7   0   0   0   0   1  85   2   0   0   0   0\n",
            "    0   0]\n",
            " [  0   1   0   0   0   1   0   0   0   0   0   0   0  96   0   2   0   0\n",
            "    0   0]\n",
            " [  0   0   0   0   0   0   0   0   0   0   0   0   1   2  97   0   0   0\n",
            "    0   0]\n",
            " [  0   0   0   0   0   0   0   0   0   0   0   0   0   0   1  99   0   0\n",
            "    0   0]\n",
            " [  0   0   0   0   0   0   0   1   1   0   0   0   0   0   0   2  95   0\n",
            "    1   0]\n",
            " [  1   0   0   0   0   0   0   0   0   2   0   0   0   0   0   4   2  88\n",
            "    2   1]\n",
            " [  0   0   0   0   0   0   0   0   0   1   0   1   0   0   1   0  24   0\n",
            "   70   3]\n",
            " [  4   0   0   0   0   0   0   0   0   0   0   0   0   1   0   1   3   0\n",
            "    4  39]]\n",
            "              precision    recall  f1-score   support\n",
            "\n",
            "           0      0.926     0.750     0.829       100\n",
            "           1      0.853     0.818     0.835        99\n",
            "           2      0.907     0.721     0.803        68\n",
            "           3      0.859     0.790     0.823       100\n",
            "           4      0.827     0.860     0.843       100\n",
            "           5      0.925     0.990     0.957       100\n",
            "           6      0.744     0.960     0.838       100\n",
            "           7      0.979     0.920     0.948       100\n",
            "           8      0.970     0.980     0.975       100\n",
            "           9      0.950     0.950     0.950       100\n",
            "          10      0.971     0.990     0.980       101\n",
            "          11      0.980     0.990     0.985       100\n",
            "          12      0.955     0.850     0.899       100\n",
            "          13      0.906     0.960     0.932       100\n",
            "          14      0.960     0.970     0.965       100\n",
            "          15      0.900     0.990     0.943       100\n",
            "          16      0.766     0.950     0.848       100\n",
            "          17      0.978     0.880     0.926       100\n",
            "          18      0.886     0.700     0.782       100\n",
            "          19      0.650     0.750     0.696        52\n",
            "\n",
            "    accuracy                          0.895      1920\n",
            "   macro avg      0.895     0.888     0.888      1920\n",
            "weighted avg      0.901     0.895     0.894      1920\n",
            "\n"
          ],
          "name": "stdout"
        }
      ]
    },
    {
      "cell_type": "code",
      "metadata": {
        "colab_type": "code",
        "id": "Rw3ga9I9nCtE",
        "outputId": "1928e692-bdf0-4df8-e295-f2589089d570",
        "colab": {
          "base_uri": "https://localhost:8080/",
          "height": 573
        }
      },
      "source": [
        "#Initialize history with correct name of the history (given on top of each model in comments)\n",
        "history = history_LSTM\n",
        "# Plot training & validation accuracy values\n",
        "\n",
        "plt.plot(history.history['categorical_accuracy'])\n",
        "plt.plot(history.history['val_categorical_accuracy'])\n",
        "plt.title('WRNN Model accuracy') #change name accordingly\n",
        "plt.ylabel('Accuracy')\n",
        "plt.xlabel('Epoch')\n",
        "plt.legend(['Train', 'Test'], loc='upper left')\n",
        "plt.show()\n",
        "\n",
        "# Plot training & validation loss values\n",
        "plt.plot(history.history['loss'])\n",
        "plt.plot(history.history['val_loss'])\n",
        "plt.title('WRNN Model loss') #change name accordingly\n",
        "plt.ylabel('Loss')\n",
        "plt.xlabel('Epoch')\n",
        "plt.legend(['Train', 'Test'], loc='upper left')\n",
        "plt.show()"
      ],
      "execution_count": 0,
      "outputs": [
        {
          "output_type": "display_data",
          "data": {
            "image/png": "[encoded data removed]",
            "text/plain": [
              "<Figure size 432x288 with 1 Axes>"
            ]
          },
          "metadata": {
            "tags": []
          }
        },
        {
          "output_type": "display_data",
          "data": {
            "image/png": "[encoded data removed]",
            "text/plain": [
              "<Figure size 432x288 with 1 Axes>"
            ]
          },
          "metadata": {
            "tags": []
          }
        }
      ]
    },
    {
      "cell_type": "code",
      "metadata": {
        "colab_type": "code",
        "id": "9Dp5h_aVRW31",
        "colab": {}
      },
      "source": [
        "from keras.utils import plot_model\n",
        "plot_model(modelnn_LSTM, to_file='model.png' , show_shapes=True)"
      ],
      "execution_count": 0,
      "outputs": []
    },
    {
      "cell_type": "markdown",
      "metadata": {
        "colab_type": "text",
        "id": "rP9uNpsqz4py"
      },
      "source": [
        "## Classification Result of 25 Documents"
      ]
    },
    {
      "cell_type": "code",
      "metadata": {
        "colab_type": "code",
        "id": "QWlvX7iouUpy",
        "colab": {}
      },
      "source": [
        "Categories = {0:'alt.atheism',1:'comp.graphics',2:'comp.os.ms-windows.misc',3:'comp.sys.ibm.pc.hardware',4:'comp.sys.mac.hardware',5:'comp.windows.x'\n",
        ",6:'misc.forsale',7:'rec.autos',8:'rec.motorcycles',9:'rec.sport.baseball',10:'rec.sport.hockey',11:'sci.crypt',12:'sci.electronics'\n",
        ",13:'sci.med',14:'sci.space',15:'soc.religion.christian',16:'talk.politics.guns',17:'talk.politics.mideast',18:'talk.politics.misc'\n",
        ",19:'talk.religion.misc'}"
      ],
      "execution_count": 0,
      "outputs": []
    },
    {
      "cell_type": "code",
      "metadata": {
        "colab_type": "code",
        "id": "Bn5cMzW4Q57e",
        "colab": {}
      },
      "source": [
        "No_of_Samples = 25\n",
        "Results = modelnn_LSTM.predict(data_test[:No_of_Samples])\n",
        "Predictions=[]\n",
        "for i in range(No_of_Samples):\n",
        "    k=[]\n",
        "    k.append( Categories.get(Results.argmax(axis=1)[i])) \n",
        "    k.append(Categories.get(y_test.argmax(axis=1)[i]))\n",
        "    if(k[0]==k[1]):\n",
        "        k.append('Correct')\n",
        "    else:\n",
        "        k.append('InCorrect')\n",
        "    Predictions.append(k.copy())\n",
        "df = pd.DataFrame(Predictions,columns=['Predicted','Actual','Status'])\n",
        "df\n",
        "# Since some categories are almost inter-related such categories have a more chance of incorrect output. This can be seen from the confusion matrix as well. "
      ],
      "execution_count": 0,
      "outputs": []
    }
  ]
}
