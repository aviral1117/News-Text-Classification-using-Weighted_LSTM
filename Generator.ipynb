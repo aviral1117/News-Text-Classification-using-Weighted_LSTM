{
 "cells": [
  {
   "cell_type": "code",
   "execution_count": 0,
   "metadata": {
    "colab": {},
    "colab_type": "code",
    "id": "79Ypa9wqOO0w"
   },
   "outputs": [],
   "source": [
    "import os\n",
    "import re\n",
    "import csv\n",
    "import gensim \n",
    "import codecs\n",
    "import warnings \n",
    "import numpy as np\n",
    "import pandas as pd\n",
    "\n",
    "from nltk.corpus import stopwords\n",
    "from nltk.stem import SnowballStemmer\n",
    "from string import punctuation\n",
    "\n",
    "from nltk.tokenize import sent_tokenize, word_tokenize \n",
    "from gensim.models import KeyedVectors , Word2Vec\n",
    "from keras.preprocessing import text\n",
    "from keras.preprocessing.text import Tokenizer\n",
    "from keras.preprocessing.sequence import pad_sequences\n",
    "from keras.layers import Dense, Input, LSTM, Embedding, Dropout, Activation\n",
    "from keras.layers.merge import concatenate\n",
    "from keras.models import Model\n",
    "from keras.layers.normalization import BatchNormalization\n",
    "from keras.callbacks import EarlyStopping, ModelCheckpoint\n",
    "from keras import Sequential\n",
    "from keras.layers import Dense, Activation, Flatten\n",
    "import sys"
   ]
  },
  {
   "cell_type": "markdown",
   "metadata": {
    "colab_type": "text",
    "id": "zzCwU1fNhcRu"
   },
   "source": [
    "# Preparing Data"
   ]
  },
  {
   "cell_type": "code",
   "execution_count": 0,
   "metadata": {
    "colab": {
     "base_uri": "https://localhost:8080/",
     "height": 353
    },
    "colab_type": "code",
    "id": "_j4s4FUROhrC",
    "outputId": "1b98a697-be84-4268-fc63-3afd63792317"
   },
   "outputs": [
    {
     "name": "stdout",
     "output_type": "stream",
     "text": [
      "b'alt.atheism'\n",
      "b'comp.graphics'\n",
      "b'comp.os.ms-windows.misc'\n",
      "b'comp.sys.ibm.pc.hardware'\n",
      "b'comp.sys.mac.hardware'\n",
      "b'comp.windows.x'\n",
      "b'misc.forsale'\n",
      "b'rec.autos'\n",
      "b'rec.motorcycles'\n",
      "b'rec.sport.baseball'\n",
      "b'rec.sport.hockey'\n",
      "b'sci.crypt'\n",
      "b'sci.electronics'\n",
      "b'sci.med'\n",
      "b'sci.space'\n",
      "b'soc.religion.christian'\n",
      "b'talk.politics.guns'\n",
      "b'talk.politics.mideast'\n",
      "b'talk.politics.misc'\n",
      "b'talk.religion.misc'\n"
     ]
    }
   ],
   "source": [
    "docs=[]\n",
    "directory = os.fsencode('20news-bydate-train') # Train Data File with 90% Data\n",
    "output_train=[]\n",
    "d = [0]*20\n",
    "p = -1\n",
    "j = os.listdir(directory)\n",
    "j.sort()\n",
    "for file in j:\n",
    "    print(file)\n",
    "    p+=1\n",
    "    d[p]=1\n",
    "    for first in os.listdir(directory+b'/'+file):\n",
    "        k = directory + b'/' + file + b'/' + first\n",
    "        with open(k.decode('utf-8'),'r',errors='ignore') as file2:\n",
    "            output_train.append(d.copy())\n",
    "            docs.append(file2.read())\n",
    "    d[p]=0\n",
    "\n",
    "# Creates a list of docs. Each item is a list of all words of the doc.\n",
    "m=[]\n",
    "for i in docs:\n",
    "    i = i.replace('\\n',' ')\n",
    "    m.append(text.text_to_word_sequence(i))\n",
    "train_data1 = m"
   ]
  },
  {
   "cell_type": "code",
   "execution_count": 0,
   "metadata": {
    "colab": {
     "base_uri": "https://localhost:8080/",
     "height": 353
    },
    "colab_type": "code",
    "id": "6kXZu4Pj6NrZ",
    "outputId": "6caacc80-3a8d-4b86-f21b-bb6ed9fabe4d"
   },
   "outputs": [
    {
     "name": "stdout",
     "output_type": "stream",
     "text": [
      "b'alt.atheism'\n",
      "b'comp.graphics'\n",
      "b'comp.os.ms-windows.misc'\n",
      "b'comp.sys.ibm.pc.hardware'\n",
      "b'comp.sys.mac.hardware'\n",
      "b'comp.windows.x'\n",
      "b'misc.forsale'\n",
      "b'rec.autos'\n",
      "b'rec.motorcycles'\n",
      "b'rec.sport.baseball'\n",
      "b'rec.sport.hockey'\n",
      "b'sci.crypt'\n",
      "b'sci.electronics'\n",
      "b'sci.med'\n",
      "b'sci.space'\n",
      "b'soc.religion.christian'\n",
      "b'talk.politics.guns'\n",
      "b'talk.politics.mideast'\n",
      "b'talk.politics.misc'\n",
      "b'talk.religion.misc'\n"
     ]
    }
   ],
   "source": [
    "docs=[]\n",
    "directory = os.fsencode('20news-bydate-test') # Test Data File with 10% data\n",
    "output_train=[]\n",
    "d = [0]*20\n",
    "p = -1\n",
    "j = os.listdir(directory)\n",
    "j.sort()\n",
    "for file in j:\n",
    "    print(file)\n",
    "    p+=1\n",
    "    d[p]=1\n",
    "    for first in os.listdir(directory+b'/'+file):\n",
    "        k = directory + b'/' + file + b'/' + first\n",
    "        with open(k.decode('utf-8'),'r',errors='ignore') as file2:\n",
    "            output_train.append(d.copy())\n",
    "            docs.append(file2.read())\n",
    "    d[p]=0\n",
    "\n",
    "# Creates a list of docs. Each item is a list of all words of the doc.\n",
    "m_test=[]\n",
    "for i in docs:\n",
    "    i = i.replace('\\n',' ')\n",
    "    m_test.append(text.text_to_word_sequence(i))\n",
    "test_data1 = m_test"
   ]
  },
  {
   "cell_type": "markdown",
   "metadata": {
    "colab_type": "text",
    "id": "vTHRpK9G2FCj"
   },
   "source": [
    "# WORD2VEC"
   ]
  },
  {
   "cell_type": "code",
   "execution_count": 0,
   "metadata": {
    "colab": {},
    "colab_type": "code",
    "id": "EbyQTmg4OsPM"
   },
   "outputs": [],
   "source": [
    "# Python program to generate word vectors using Word2Vec \n",
    "warnings.filterwarnings(action = 'ignore') \n",
    "\n",
    "m1 = train_data1 + test_data1  \n",
    "model = Word2Vec(m1, min_count = 5, size = 200, sg = 1,iter=10)  # Word2Vec Model"
   ]
  },
  {
   "cell_type": "code",
   "execution_count": 0,
   "metadata": {
    "colab": {
     "base_uri": "https://localhost:8080/",
     "height": 34
    },
    "colab_type": "code",
    "id": "Jz1eiCvp_JHw",
    "outputId": "bbab1ab9-cf31-48ab-c8cd-a2765eb1ffc7"
   },
   "outputs": [
    {
     "data": {
      "text/plain": [
       "43494"
      ]
     },
     "execution_count": 14,
     "metadata": {
      "tags": []
     },
     "output_type": "execute_result"
    }
   ],
   "source": [
    "len(model.wv.vocab)"
   ]
  },
  {
   "cell_type": "code",
   "execution_count": 0,
   "metadata": {
    "colab": {},
    "colab_type": "code",
    "id": "z0e-EQUEdoTw"
   },
   "outputs": [],
   "source": [
    "from gensim.models import KeyedVectors\n",
    "from gensim.test.utils import common_texts, get_tmpfile\n",
    "from gensim.models import Word2Vec\n",
    "import gensim \n",
    "from gensim.models import Word2Vec \n",
    "from gensim.models import KeyedVectors\n",
    "from gensim.test.utils import common_texts, get_tmpfile\n",
    "\n",
    "path = get_tmpfile(\"/content/drive/My Drive/20news-bydate/Word2Vec_14-11-19/wordvectors1.kv\")\n",
    "model.wv.save(path)\n",
    "\n",
    "'''\n",
    "# To save the model\n",
    "path = get_tmpfile(\"/content/drive/My Drive/20news-bydate/Word2Vec_14-11-19/wordvectors1.model\")\n",
    "model.save(path)\n",
    "\n",
    "# To load a word2vec model\n",
    "model = gensim.models.Word2Vec.load('word2vec.model')\n",
    "\n",
    "# Loading Model KeyedVectors\n",
    "path = get_tmpfile(\"/content/drive/My Drive/20news-bydate/Word2Vec(43494)/wordvectors1.kv\")\n",
    "wv = KeyedVectors.load(path, mmap='r')\n",
    "'''"
   ]
  },
  {
   "cell_type": "code",
   "execution_count": 0,
   "metadata": {
    "colab": {
     "base_uri": "https://localhost:8080/",
     "height": 118
    },
    "colab_type": "code",
    "id": "188bpqmx0l8m",
    "outputId": "d178a3cf-d57d-4e25-c127-c3a1b8a338f6"
   },
   "outputs": [
    {
     "data": {
      "text/plain": [
       "[('univ', 0.6162004470825195),\n",
       " ('nebraska', 0.6018569469451904),\n",
       " ('univeristy', 0.5876556038856506),\n",
       " ('madeline', 0.5795857906341553),\n",
       " ('zilfi', 0.5721766948699951),\n",
       " ('wyoming', 0.5688989162445068)]"
      ]
     },
     "execution_count": 13,
     "metadata": {
      "tags": []
     },
     "output_type": "execute_result"
    }
   ],
   "source": [
    "model.wv.most_similar(\"university\",topn=6)"
   ]
  },
  {
   "cell_type": "markdown",
   "metadata": {
    "colab_type": "text",
    "id": "YW-P8O16bppQ"
   },
   "source": [
    "## Filtering data and creating final data files"
   ]
  },
  {
   "cell_type": "code",
   "execution_count": 0,
   "metadata": {
    "colab": {},
    "colab_type": "code",
    "id": "iHsHpGnrqMwn"
   },
   "outputs": [],
   "source": [
    "# Training/Testing data cleaning to filter out words not in vocabolary but present in the document\n",
    "train_data=[]\n",
    "for i in range(len(train_data1)):\n",
    "    l = filter(lambda x: x in model.wv.vocab,train_data1[i])\n",
    "    k = []\n",
    "    for i in l:\n",
    "        k.append(i)\n",
    "    train_data.append(k.copy())\n",
    "\n",
    "test_data=[]\n",
    "for i in range(len(test_data1)):\n",
    "    l = filter(lambda x: x in model.wv.vocab,test_data1[i])\n",
    "    k = []\n",
    "    for i in l:\n",
    "        k.append(i)\n",
    "    test_data.append(k.copy())"
   ]
  },
  {
   "cell_type": "code",
   "execution_count": 0,
   "metadata": {
    "colab": {},
    "colab_type": "code",
    "id": "YXO1SXrW9XEh"
   },
   "outputs": [],
   "source": [
    "# Creating final pickel files\n",
    "# To save an object in a file\n",
    "\n",
    "with open(\"train_data.p\", \"wb\") as fp:   #Pickling\n",
    "     pickle.dump(train_data, fp)\n",
    "with open(\"test_data.p\", \"wb\") as fp:   #Pickling\n",
    "     pickle.dump(test_data, fp)"
   ]
  }
 ],
 "metadata": {
  "colab": {
   "collapsed_sections": [
    "zzCwU1fNhcRu",
    "vTHRpK9G2FCj"
   ],
   "name": "Generator.ipynb",
   "provenance": [],
   "toc_visible": true
  },
  "kernelspec": {
   "display_name": "Python 3",
   "language": "python",
   "name": "python3"
  },
  "language_info": {
   "codemirror_mode": {
    "name": "ipython",
    "version": 3
   },
   "file_extension": ".py",
   "mimetype": "text/x-python",
   "name": "python",
   "nbconvert_exporter": "python",
   "pygments_lexer": "ipython3",
   "version": "3.6.4"
  }
 },
 "nbformat": 4,
 "nbformat_minor": 1
}
